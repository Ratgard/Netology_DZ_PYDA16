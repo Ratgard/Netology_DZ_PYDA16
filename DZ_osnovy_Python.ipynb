{
 "cells": [
  {
   "cell_type": "markdown",
   "metadata": {},
   "source": [
    "ДЗ 1"
   ]
  },
  {
   "cell_type": "code",
   "execution_count": null,
   "metadata": {},
   "outputs": [],
   "source": [
    "phrase_1 = 'Насколько проще было бы писать программы, если бы не заказчики'\n",
    "phrase_2 = '640Кб должно хватить для любых задач. Билл Гейтс (по легенде)'\n",
    "\n",
    "if len(phrase_1) > len(phrase_2):\n",
    "    print('Фраза 1 длиннее фразы 2')\n",
    "elif len(phrase_1) < len(phrase_2):\n",
    "    print('Фраза 2 длиннее фразы 1')\n",
    "else:\n",
    "    print ('Фразы равной длинны')"
   ]
  },
  {
   "cell_type": "code",
   "execution_count": 9,
   "metadata": {},
   "outputs": [
    {
     "name": "stdout",
     "output_type": "stream",
     "text": [
      "Фраза 2 длиннее фразы 1\n"
     ]
    }
   ],
   "source": [
    "phrase_1 = '640Кб должно хватить для любых задач. Билл Гейтс (по легенде)'\n",
    "phrase_2 = 'Насколько проще было бы писать программы, если бы не заказчики'\n",
    "\n",
    "if len(phrase_1) > len(phrase_2):\n",
    "    print('Фраза 1 длиннее фразы 2')\n",
    "elif len(phrase_1) < len(phrase_2):\n",
    "    print('Фраза 2 длиннее фразы 1')\n",
    "else:\n",
    "    print ('Фразы равной длинны')"
   ]
  },
  {
   "cell_type": "code",
   "execution_count": 12,
   "metadata": {},
   "outputs": [
    {
     "name": "stdout",
     "output_type": "stream",
     "text": [
      "Фразы равной длинны\n"
     ]
    }
   ],
   "source": [
    "phrase_1 = 'Насколько проще было бы писать программы, если бы не заказчики'\n",
    "phrase_2 = 'Насколько проще было бы писать программы, если бы не заказчики'\n",
    "\n",
    "if len(phrase_1) > len(phrase_2):\n",
    "    print('Фраза 1 длиннее фразы 2')\n",
    "elif len(phrase_1) < len(phrase_2):\n",
    "    print('Фраза 2 длиннее фразы 1')\n",
    "else:\n",
    "    print ('Фразы равной длинны')"
   ]
  },
  {
   "cell_type": "markdown",
   "metadata": {},
   "source": [
    "ДЗ 2"
   ]
  },
  {
   "cell_type": "code",
   "execution_count": 13,
   "metadata": {},
   "outputs": [
    {
     "name": "stdout",
     "output_type": "stream",
     "text": [
      "2020\n",
      "Високосный год\n"
     ]
    }
   ],
   "source": [
    "year = int(input())\n",
    "if (year % 4 == 0) and (year % 100 != 0) or (year % 400 == 0):\n",
    "    print('Високосный год')\n",
    "else:\n",
    "    print('Обычный год')"
   ]
  },
  {
   "cell_type": "markdown",
   "metadata": {},
   "source": [
    "ДЗ 3"
   ]
  },
  {
   "cell_type": "code",
   "execution_count": 15,
   "metadata": {
    "scrolled": true
   },
   "outputs": [
    {
     "name": "stdout",
     "output_type": "stream",
     "text": [
      "Укажите месяц с заглавной\n",
      "Февраль\n",
      "Введите день\n",
      "5\n",
      "Водолей\n"
     ]
    }
   ],
   "source": [
    "month=str(input(\"Укажите месяц с заглавной\\n\"))\n",
    "day=int(input(\"Введите день\\n\"))\n",
    "####################################\n",
    "if month==\"Декабрь\" and 22<=day<=31:\n",
    "    print (\"Козерог\")\n",
    "elif month==\"Январь\" and 1<=day<=20:\n",
    "    print (\"Козерог\")\n",
    "####################################\n",
    "elif month==\"Январь\" and 21<=day<=31:\n",
    "    print (\"Водолей\")\n",
    "elif month==\"Февраль\" and 1<=day<=19:\n",
    "    print (\"Водолей\")\n",
    "####################################\n",
    "elif month==\"Февраль\" and 20<=day<=29:\n",
    "    print (\"Рыбы\")\n",
    "elif month==\"Март\" and 1<=day<=20:\n",
    "    print (\"Рыбы\")\n",
    "####################################\n",
    "elif month==\"Март\" and 21<=day<=30:\n",
    "    print (\"Овен\")\n",
    "elif month==\"Март\" and 1<=day<=20:\n",
    "    print (\"Овен\")\n",
    "####################################\n",
    "elif month==\"Март\" and 21<=day<=31:\n",
    "    print (\"Овен\")\n",
    "elif month==\"Апрель\" and 1<=day<=20:\n",
    "    print (\"Овен\")\n",
    "####################################\n",
    "elif month==\"Апрель\" and 21<=day<=30:\n",
    "    print (\"Телец\")\n",
    "elif month==\"Май\" and 1<=day<=21:\n",
    "    print (\"Телец\")\n",
    "####################################\n",
    "elif month==\"Май\" and 22<=day<=31:\n",
    "    print (\"Водолей\")\n",
    "elif month==\"Июнь\" and 1<=day<=21:\n",
    "    print (\"Водолей\")\n",
    "####################################\n",
    "elif month==\"Июнь\" and 22<=day<=30:\n",
    "    print (\"Рак\")\n",
    "elif month==\"Июль\" and 1<=day<=22:\n",
    "    print (\"Рак\")\n",
    "####################################\n",
    "elif month==\"Июль\" and 23<=day<=31:\n",
    "    print (\"Лев\")\n",
    "elif month==\"Август\" and 1<=day<=22:\n",
    "    print (\"Лев\")\n",
    "####################################\n",
    "elif month==\"Август\" and 23<=day<=31:\n",
    "    print (\"Дева\")\n",
    "elif month==\"Сентябрь\" and 1<=day<=22:\n",
    "    print (\"Дева\")\n",
    "####################################\n",
    "elif month==\"Сентябрь\" and 23<=day<=30:\n",
    "    print (\"Весы\")\n",
    "elif month==\"Октябрь\" and 1<=day<=22:\n",
    "    print (\"Весы\")\n",
    "####################################     \n",
    "elif month==\"Октябрь\" and 23<=day<=31:\n",
    "    print (\"Скорпион\")\n",
    "elif month==\"Ноябрь\" and 1<=day<=22:\n",
    "    print (\"Скорпион\")\n",
    "####################################     \n",
    "elif month==\"Ноябрь\" and 23<=day<=30:\n",
    "    print (\"Стрелец\")\n",
    "elif month==\"Декабрь\" and 1<=day<=21:\n",
    "    print (\"Стрелец\")\n",
    "#################################### \n",
    "elif month!=\"Декабрь;Январь;Февраль;Март;Апрель;Май;Июнь;Июль;Август;Сентябрь;Октябрь;Ноябрь\":\n",
    "    print (\"введены неверные значения, попробуйте еще раз\")\n",
    "elif day!=0>=day>=32:\n",
    "    print (\"Введены неверные значения, попробуйте еще раз\")"
   ]
  },
  {
   "cell_type": "markdown",
   "metadata": {},
   "source": [
    "ДЗ 4"
   ]
  },
  {
   "cell_type": "code",
   "execution_count": 16,
   "metadata": {
    "scrolled": true
   },
   "outputs": [
    {
     "name": "stdout",
     "output_type": "stream",
     "text": [
      "Введите ширину\n",
      "15\n",
      "Введите длину\n",
      "52\n",
      "Введите высоту\n",
      "6\n",
      "Стандартная коробка №3\n"
     ]
    }
   ],
   "source": [
    "width = int(input(\"Введите ширину\\n\"))\n",
    "lenght = int(input(\"Введите длину\\n\"))\n",
    "height= int(input(\"Введите высоту\\n\"))\n",
    "if width <=15 and lenght <=15 and height <=15:\n",
    "    print (\"Коробка №1\")\n",
    "elif 16<=width<=50 or 16<=lenght<=50 or 16<=height<=50:\n",
    "    print (\"Коробка №2\")\n",
    "elif width >=200 and lenght >=200 and height >=200:\n",
    "    print (\"Коробка для лыж\")\n",
    "else:\n",
    "    print (\"Стандартная коробка №3\")"
   ]
  }
 ],
 "metadata": {
  "kernelspec": {
   "display_name": "Python 3",
   "language": "python",
   "name": "python3"
  },
  "language_info": {
   "codemirror_mode": {
    "name": "ipython",
    "version": 3
   },
   "file_extension": ".py",
   "mimetype": "text/x-python",
   "name": "python",
   "nbconvert_exporter": "python",
   "pygments_lexer": "ipython3",
   "version": "3.7.4"
  }
 },
 "nbformat": 4,
 "nbformat_minor": 2
}
