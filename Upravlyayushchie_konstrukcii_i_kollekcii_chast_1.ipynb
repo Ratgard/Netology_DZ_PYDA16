{
 "cells": [
  {
   "cell_type": "code",
   "execution_count": 1,
   "metadata": {
    "scrolled": true
   },
   "outputs": [
    {
     "name": "stdout",
     "output_type": "stream",
     "text": [
      "123123\n",
      "31\n"
     ]
    }
   ],
   "source": [
    "#Управляющие конструкции и коллекции» часть 1 (ДЗ 1)\n",
    "text = input()\n",
    "line  = len(text)\n",
    "if line % 2 == 0:\n",
    "    a = line / 2 - 1\n",
    "    b = a + 2\n",
    "    print (text[int(a):int(b)])\n",
    "else:\n",
    "    a = line // 2\n",
    "    print (text[int(a)])"
   ]
  },
  {
   "cell_type": "code",
   "execution_count": 2,
   "metadata": {},
   "outputs": [
    {
     "name": "stdout",
     "output_type": "stream",
     "text": [
      "Введите число\n",
      "5\n",
      "Введите число\n",
      "2\n",
      "Введите число\n",
      "1\n",
      "Введите число\n",
      "0\n",
      "8\n"
     ]
    }
   ],
   "source": [
    "##Управляющие конструкции и коллекции» часть 1 (ДЗ 2)\n",
    "number= int(input(\"Введите число\\n\"))\n",
    "summ = 0\n",
    "while number != 0:\n",
    "    summ += number\n",
    "    number= int(input(\"Введите число\\n\"))\n",
    "print (summ)"
   ]
  },
  {
   "cell_type": "code",
   "execution_count": 5,
   "metadata": {},
   "outputs": [
    {
     "name": "stdout",
     "output_type": "stream",
     "text": [
      "Идеальные пары:\n",
      "Alex и Emma\n",
      "Arthur и Kate\n",
      "John и Kira\n",
      "Peter и Liza\n",
      "Richard и Trisha\n"
     ]
    }
   ],
   "source": [
    "##Управляющие конструкции и коллекции» часть 1 (ДЗ 3)\n",
    "boys = ['Peter', 'Alex', 'John', 'Arthur', 'Richard']\n",
    "girls = ['Kate', 'Liza', 'Kira', 'Emma', 'Trisha']\n",
    "sorted_boys = sorted(boys)\n",
    "sorted_girls = sorted (girls)\n",
    "boys_and_girls = zip(sorted_boys, sorted_girls)\n",
    "if len(sorted_boys) == len(sorted_girls):\n",
    "    print (\"Идеальные пары:\")\n",
    "    for i in boys_and_girls:\n",
    "        print (i[0], \"и\", i[1])\n",
    "else:\n",
    "    print (\"Внимание, кто-то может остаться без пары!\")"
   ]
  },
  {
   "cell_type": "code",
   "execution_count": 6,
   "metadata": {},
   "outputs": [
    {
     "name": "stdout",
     "output_type": "stream",
     "text": [
      "Thailand - 23.9 C\n",
      "Germany - 13.8 C\n",
      "Russia - 3.7 C\n",
      "Poland - 12.0 C\n"
     ]
    }
   ],
   "source": [
    "##Управляющие конструкции и коллекции» часть 1 (ДЗ 4)\n",
    "countries_temperature = [[\"Thailand\", [75.2, 77, 78.8, 73.4, 68, 75.2, 77]],\n",
    "[\"Germany\", [57.2, 55.4, 59, 59, 53.6]],\n",
    "[\"Russia\", [35.6, 37.4, 39.2, 41, 42.8, 39.2, 35.6]],\n",
    "[\"Poland\", [50, 50, 53.6, 57.2, 55.4, 55.4]]]\n",
    "for country_name, country_temperature_list in countries_temperature:\n",
    "    #print(country_name)\n",
    "    #print(country_temperature_list)\n",
    "    x = (len(country_temperature_list))\n",
    "    medium_f = sum(country_temperature_list) / x\n",
    "    medium_c = (medium_f - 32)*5/9\n",
    "    print (country_name, \"-\", (round (medium_c,1)),\"C\" )"
   ]
  }
 ],
 "metadata": {
  "kernelspec": {
   "display_name": "Python 3",
   "language": "python",
   "name": "python3"
  },
  "language_info": {
   "codemirror_mode": {
    "name": "ipython",
    "version": 3
   },
   "file_extension": ".py",
   "mimetype": "text/x-python",
   "name": "python",
   "nbconvert_exporter": "python",
   "pygments_lexer": "ipython3",
   "version": "3.7.4"
  }
 },
 "nbformat": 4,
 "nbformat_minor": 2
}
